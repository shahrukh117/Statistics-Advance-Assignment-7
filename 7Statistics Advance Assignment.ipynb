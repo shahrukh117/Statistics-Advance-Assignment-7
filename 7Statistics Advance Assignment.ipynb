{
 "cells": [
  {
   "cell_type": "markdown",
   "id": "7ccbd547-9109-40eb-9913-01be3d4b8962",
   "metadata": {},
   "source": [
    "### Q1. Write a Python function that takes in two arrays of data and calculates the F-value for a variance ratio test. The function should return the F-value and the corresponding p-value for the test."
   ]
  },
  {
   "cell_type": "code",
   "execution_count": 1,
   "id": "15b139de-03ad-47f2-8082-5203c362e550",
   "metadata": {},
   "outputs": [
    {
     "name": "stdout",
     "output_type": "stream",
     "text": [
      "F-value: 0.6883259911894274\n",
      "p-value: 0.36311878590504154\n"
     ]
    }
   ],
   "source": [
    "import numpy as np\n",
    "from scipy.stats import f\n",
    "\n",
    "def variance_ratio_test(data1, data2):\n",
    "    \"\"\"\n",
    "    Perform a variance ratio test (F-test) to compare the variances of two datasets.\n",
    "\n",
    "    Parameters:\n",
    "    - data1: First array of data\n",
    "    - data2: Second array of data\n",
    "\n",
    "    Returns:\n",
    "    - f_value: The F-value for the test\n",
    "    - p_value: The p-value for the test\n",
    "    \"\"\"\n",
    "    # Calculate variances\n",
    "    var1 = np.var(data1, ddof=1)  # degrees of freedom = 1 for sample variance\n",
    "    var2 = np.var(data2, ddof=1)\n",
    "\n",
    "    # Calculate F-value\n",
    "    f_value = var1 / var2\n",
    "\n",
    "    # Calculate degrees of freedom\n",
    "    df1 = len(data1) - 1\n",
    "    df2 = len(data2) - 1\n",
    "\n",
    "    # Calculate p-value\n",
    "    p_value = f.cdf(f_value, df1, df2)\n",
    "\n",
    "    return f_value, p_value\n",
    "\n",
    "# Example usage:\n",
    "data1 = [20, 25, 30, 35, 40]\n",
    "data2 = [18, 24, 32, 36, 42]\n",
    "f_value, p_value = variance_ratio_test(data1, data2)\n",
    "print(\"F-value:\", f_value)\n",
    "print(\"p-value:\", p_value)\n"
   ]
  },
  {
   "cell_type": "markdown",
   "id": "4b6c831a-eea0-4c3b-b212-7cc69d5c03e4",
   "metadata": {},
   "source": [
    "### Q2. Given a significance level of 0.05 and the degrees of freedom for the numerator and denominator of an F-distribution, write a Python function that returns the critical F-value for a two-tailed test."
   ]
  },
  {
   "cell_type": "code",
   "execution_count": 2,
   "id": "a37bb14f-f421-47f1-b07d-3a41f5403a38",
   "metadata": {},
   "outputs": [
    {
     "name": "stdout",
     "output_type": "stream",
     "text": [
      "Critical F-value for a two-tailed test: 3.8586986662732143\n"
     ]
    }
   ],
   "source": [
    "from scipy.stats import f\n",
    "\n",
    "def critical_f_value(alpha, dfn, dfd):\n",
    "   \n",
    "    # Calculate critical F-value\n",
    "    crit_f_value = f.ppf(1 - alpha / 2, dfn, dfd)\n",
    "    \n",
    "    return crit_f_value\n",
    "\n",
    "# Example usage:\n",
    "alpha = 0.05\n",
    "dfn = 3  # Degrees of freedom for the numerator\n",
    "dfd = 20  # Degrees of freedom for the denominator\n",
    "crit_f = critical_f_value(alpha, dfn, dfd)\n",
    "print(\"Critical F-value for a two-tailed test:\", crit_f)\n"
   ]
  },
  {
   "cell_type": "markdown",
   "id": "9d836bef-ea0d-43b8-abc2-209b3c2a947e",
   "metadata": {},
   "source": [
    "### Q3. Write a Python program that generates random samples from two normal distributions with known variances and uses an F-test to determine if the variances are equal. The program should output the F-value, degrees of freedom, and p-value for the test."
   ]
  },
  {
   "cell_type": "code",
   "execution_count": 3,
   "id": "f115859c-1a22-437a-aa55-edf9b69e185e",
   "metadata": {},
   "outputs": [
    {
     "name": "stdout",
     "output_type": "stream",
     "text": [
      "F-value: 0.6666666666666666\n",
      "Degrees of freedom (numerator): 29\n",
      "Degrees of freedom (denominator): 29\n",
      "p-value: 0.14035232382327728\n"
     ]
    }
   ],
   "source": [
    "import numpy as np\n",
    "from scipy.stats import f\n",
    "\n",
    "def f_test(var1, var2, n1, n2):\n",
    "   \n",
    "   \n",
    "    # Calculate F-value\n",
    "    f_value = var1 / var2\n",
    "\n",
    "    # Calculate degrees of freedom\n",
    "    dfn = n1 - 1\n",
    "    dfd = n2 - 1\n",
    "\n",
    "    # Calculate p-value\n",
    "    p_value = f.cdf(f_value, dfn, dfd)\n",
    "\n",
    "    return f_value, dfn, dfd, p_value\n",
    "\n",
    "# Generate random samples with known variances\n",
    "np.random.seed(0)\n",
    "variance1 = 4  # Variance of the first distribution\n",
    "variance2 = 6  # Variance of the second distribution\n",
    "sample_size1 = 30  # Sample size of the first distribution\n",
    "sample_size2 = 30  # Sample size of the second distribution\n",
    "data1 = np.random.normal(loc=0, scale=np.sqrt(variance1), size=sample_size1)\n",
    "data2 = np.random.normal(loc=0, scale=np.sqrt(variance2), size=sample_size2)\n",
    "\n",
    "# Perform F-test\n",
    "f_value, dfn, dfd, p_value = f_test(variance1, variance2, sample_size1, sample_size2)\n",
    "\n",
    "# Output results\n",
    "print(\"F-value:\", f_value)\n",
    "print(\"Degrees of freedom (numerator):\", dfn)\n",
    "print(\"Degrees of freedom (denominator):\", dfd)\n",
    "print(\"p-value:\", p_value)\n"
   ]
  },
  {
   "cell_type": "markdown",
   "id": "0869b5a6-1772-4363-a70d-98e17d68117d",
   "metadata": {},
   "source": [
    "### Q4.The variances of two populations are known to be 10 and 15. A sample of 12 observations is taken from each population. Conduct an F-test at the 5% significance level to determine if the variances are significantly different."
   ]
  },
  {
   "cell_type": "code",
   "execution_count": 4,
   "id": "b808d12b-450a-486d-a8ba-e753118f775a",
   "metadata": {},
   "outputs": [
    {
     "name": "stdout",
     "output_type": "stream",
     "text": [
      "F-value: 1.5\n",
      "Degrees of freedom (numerator): 11\n",
      "Degrees of freedom (denominator): 11\n",
      "Critical F-value: 3.473699051085809\n",
      "Fail to reject the null hypothesis: Variances are not significantly different.\n"
     ]
    }
   ],
   "source": [
    "from scipy.stats import f\n",
    "\n",
    "# Given variances\n",
    "variance1 = 10\n",
    "variance2 = 15\n",
    "\n",
    "# Sample sizes\n",
    "n1 = 12\n",
    "n2 = 12\n",
    "\n",
    "# Calculate the F-value\n",
    "f_value = variance2 / variance1\n",
    "\n",
    "# Degrees of freedom\n",
    "dfn = n2 - 1\n",
    "dfd = n1 - 1\n",
    "\n",
    "# Significance level\n",
    "alpha = 0.05\n",
    "\n",
    "# Calculate the critical F-value\n",
    "crit_f_value = f.ppf(1 - alpha/2, dfn, dfd)\n",
    "\n",
    "# Output results\n",
    "print(\"F-value:\", f_value)\n",
    "print(\"Degrees of freedom (numerator):\", dfn)\n",
    "print(\"Degrees of freedom (denominator):\", dfd)\n",
    "print(\"Critical F-value:\", crit_f_value)\n",
    "\n",
    "# Compare F-value with critical F-value\n",
    "if f_value > crit_f_value:\n",
    "    print(\"Reject the null hypothesis: Variances are significantly different.\")\n",
    "else:\n",
    "    print(\"Fail to reject the null hypothesis: Variances are not significantly different.\")\n"
   ]
  },
  {
   "cell_type": "markdown",
   "id": "62d55b35-dfd6-4b6d-b355-8ed50b7edd90",
   "metadata": {},
   "source": [
    "### Q5. A manufacturer claims that the variance of the diameter of a certain product is 0.005. A sample of 25 products is taken, and the sample variance is found to be 0.006. Conduct an F-test at the 1% significance level to determine if the claim is justified."
   ]
  },
  {
   "cell_type": "code",
   "execution_count": 5,
   "id": "d3c6b707-5cdb-4a40-bccb-0995695e9f7b",
   "metadata": {},
   "outputs": [
    {
     "name": "stdout",
     "output_type": "stream",
     "text": [
      "F-value: 1.2\n",
      "Degrees of freedom (numerator and denominator): 24\n",
      "Critical F-value: 2.966741631292762\n",
      "Fail to reject the null hypothesis: The claimed variance is justified.\n"
     ]
    }
   ],
   "source": [
    "from scipy.stats import f\n",
    "\n",
    "# Given data\n",
    "claimed_variance = 0.005\n",
    "sample_variance = 0.006\n",
    "n = 25\n",
    "\n",
    "# Calculate the F-value\n",
    "f_value = sample_variance / claimed_variance\n",
    "\n",
    "# Degrees of freedom\n",
    "dfn = n - 1  # Degrees of freedom for the numerator\n",
    "dfd = n - 1  # Degrees of freedom for the denominator\n",
    "\n",
    "# Significance level\n",
    "alpha = 0.01\n",
    "\n",
    "# Calculate the critical F-value\n",
    "crit_f_value = f.ppf(1 - alpha/2, dfn, dfd)\n",
    "\n",
    "# Output results\n",
    "print(\"F-value:\", f_value)\n",
    "print(\"Degrees of freedom (numerator and denominator):\", dfn)\n",
    "print(\"Critical F-value:\", crit_f_value)\n",
    "\n",
    "# Compare F-value with critical F-value\n",
    "if f_value > crit_f_value or f_value < 1/crit_f_value:\n",
    "    print(\"Reject the null hypothesis: The claimed variance is not justified.\")\n",
    "else:\n",
    "    print(\"Fail to reject the null hypothesis: The claimed variance is justified.\")\n"
   ]
  },
  {
   "cell_type": "markdown",
   "id": "e3a5819b-1c91-42aa-a2b3-f70e658e274b",
   "metadata": {},
   "source": [
    "### Q6. Write a Python function that takes in the degrees of freedom for the numerator and denominator of an F-distribution and calculates the mean and variance of the distribution. The function should return the mean and variance as a tuple."
   ]
  },
  {
   "cell_type": "code",
   "execution_count": 6,
   "id": "14a29059-3a51-4b04-8ea7-5369db5444c8",
   "metadata": {},
   "outputs": [
    {
     "name": "stdout",
     "output_type": "stream",
     "text": [
      "F-value: 1.2\n",
      "Degrees of freedom (numerator and denominator): 24\n",
      "Critical F-value: 2.966741631292762\n",
      "Fail to reject the null hypothesis: The claimed variance is justified.\n"
     ]
    }
   ],
   "source": [
    "from scipy.stats import f\n",
    "\n",
    "# Given data\n",
    "claimed_variance = 0.005\n",
    "sample_variance = 0.006\n",
    "n = 25\n",
    "\n",
    "# Calculate the F-value\n",
    "f_value = sample_variance / claimed_variance\n",
    "\n",
    "# Degrees of freedom\n",
    "dfn = n - 1  # Degrees of freedom for the numerator\n",
    "dfd = n - 1  # Degrees of freedom for the denominator\n",
    "\n",
    "# Significance level\n",
    "alpha = 0.01\n",
    "\n",
    "# Calculate the critical F-value\n",
    "crit_f_value = f.ppf(1 - alpha/2, dfn, dfd)\n",
    "\n",
    "# Output results\n",
    "print(\"F-value:\", f_value)\n",
    "print(\"Degrees of freedom (numerator and denominator):\", dfn)\n",
    "print(\"Critical F-value:\", crit_f_value)\n",
    "\n",
    "# Compare F-value with critical F-value\n",
    "if f_value > crit_f_value or f_value < 1/crit_f_value:\n",
    "    print(\"Reject the null hypothesis: The claimed variance is not justified.\")\n",
    "else:\n",
    "    print(\"Fail to reject the null hypothesis: The claimed variance is justified.\")\n"
   ]
  },
  {
   "cell_type": "markdown",
   "id": "48b21b78-243a-4893-bce5-48cd0c588097",
   "metadata": {},
   "source": [
    "### Q7. A random sample of 10 measurements is taken from a normal population with unknown variance. The sample variance is found to be 25. Another random sample of 15 measurements is taken from another normal population with unknown variance, and the sample variance is found to be 20. Conduct an F-test at the 10% significance level to determine if the variances are significantly different."
   ]
  },
  {
   "cell_type": "code",
   "execution_count": 7,
   "id": "f42c31b3-904f-4996-ae42-0be84998e21e",
   "metadata": {},
   "outputs": [
    {
     "name": "stdout",
     "output_type": "stream",
     "text": [
      "F-value: 1.25\n",
      "Degrees of freedom (numerator): 9\n",
      "Degrees of freedom (denominator): 14\n",
      "Critical F-value: 2.6457907352338195\n",
      "Fail to reject the null hypothesis: Variances are not significantly different.\n"
     ]
    }
   ],
   "source": [
    "from scipy.stats import f\n",
    "\n",
    "# Given data\n",
    "sample_variance1 = 25\n",
    "n1 = 10\n",
    "sample_variance2 = 20\n",
    "n2 = 15\n",
    "\n",
    "# Calculate the F-value\n",
    "if sample_variance1 > sample_variance2:\n",
    "    f_value = sample_variance1 / sample_variance2\n",
    "    dfn = n1 - 1\n",
    "    dfd = n2 - 1\n",
    "else:\n",
    "    f_value = sample_variance2 / sample_variance1\n",
    "    dfn = n2 - 1\n",
    "    dfd = n1 - 1\n",
    "\n",
    "# Significance level\n",
    "alpha = 0.10\n",
    "\n",
    "# Calculate the critical F-value\n",
    "crit_f_value = f.ppf(1 - alpha/2, dfn, dfd)\n",
    "\n",
    "# Output results\n",
    "print(\"F-value:\", f_value)\n",
    "print(\"Degrees of freedom (numerator):\", dfn)\n",
    "print(\"Degrees of freedom (denominator):\", dfd)\n",
    "print(\"Critical F-value:\", crit_f_value)\n",
    "\n",
    "# Compare F-value with critical F-value\n",
    "if f_value > crit_f_value:\n",
    "    print(\"Reject the null hypothesis: Variances are significantly different.\")\n",
    "else:\n",
    "    print(\"Fail to reject the null hypothesis: Variances are not significantly different.\")\n"
   ]
  },
  {
   "cell_type": "markdown",
   "id": "b14b1c8f-7622-4169-a373-70270bac993e",
   "metadata": {},
   "source": [
    "### Q8. The following data represent the waiting times in minutes at two different restaurants on a Saturday night: Restaurant A: 24, 25, 28, 23, 22, 20, 27; Restaurant B: 31, 33, 35, 30, 32, 36. Conduct an F-test at the 5% significance level to determine if the variances are significantly different."
   ]
  },
  {
   "cell_type": "code",
   "execution_count": 8,
   "id": "96e86a92-d503-4369-896b-02a35a530b97",
   "metadata": {},
   "outputs": [
    {
     "name": "stdout",
     "output_type": "stream",
     "text": [
      "F-value: 1.4551907719609583\n",
      "Degrees of freedom (numerator): 6\n",
      "Degrees of freedom (denominator): 5\n",
      "Critical F-value: 6.977701858535566\n",
      "Fail to reject the null hypothesis: Variances are not significantly different.\n"
     ]
    }
   ],
   "source": [
    "import numpy as np\n",
    "from scipy.stats import f\n",
    "\n",
    "# Given data\n",
    "waiting_times_a = np.array([24, 25, 28, 23, 22, 20, 27])\n",
    "waiting_times_b = np.array([31, 33, 35, 30, 32, 36])\n",
    "\n",
    "# Calculate sample variances\n",
    "variance_a = np.var(waiting_times_a, ddof=1)\n",
    "variance_b = np.var(waiting_times_b, ddof=1)\n",
    "\n",
    "# Calculate the F-value\n",
    "if variance_a > variance_b:\n",
    "    f_value = variance_a / variance_b\n",
    "    dfn = len(waiting_times_a) - 1\n",
    "    dfd = len(waiting_times_b) - 1\n",
    "else:\n",
    "    f_value = variance_b / variance_a\n",
    "    dfn = len(waiting_times_b) - 1\n",
    "    dfd = len(waiting_times_a) - 1\n",
    "\n",
    "# Significance level\n",
    "alpha = 0.05\n",
    "\n",
    "# Calculate the critical F-value\n",
    "crit_f_value = f.ppf(1 - alpha/2, dfn, dfd)\n",
    "\n",
    "# Output results\n",
    "print(\"F-value:\", f_value)\n",
    "print(\"Degrees of freedom (numerator):\", dfn)\n",
    "print(\"Degrees of freedom (denominator):\", dfd)\n",
    "print(\"Critical F-value:\", crit_f_value)\n",
    "\n",
    "# Compare F-value with critical F-value\n",
    "if f_value > crit_f_value:\n",
    "    print(\"Reject the null hypothesis: Variances are significantly different.\")\n",
    "else:\n",
    "    print(\"Fail to reject the null hypothesis: Variances are not significantly different.\")\n"
   ]
  },
  {
   "cell_type": "markdown",
   "id": "6fba44cf-2993-4b5c-ac0c-e7d07ba337fb",
   "metadata": {},
   "source": [
    "### Q9. The following data represent the test scores of two groups of students: Group A: 80, 85, 90, 92, 87, 83; Group B: 75, 78, 82, 79, 81, 84. Conduct an F-test at the 1% significance level to determine if the variances are significantly different."
   ]
  },
  {
   "cell_type": "code",
   "execution_count": null,
   "id": "2ac77557-cb9c-42a3-907d-06d39c634e0d",
   "metadata": {},
   "outputs": [],
   "source": []
  }
 ],
 "metadata": {
  "kernelspec": {
   "display_name": "Python 3 (ipykernel)",
   "language": "python",
   "name": "python3"
  },
  "language_info": {
   "codemirror_mode": {
    "name": "ipython",
    "version": 3
   },
   "file_extension": ".py",
   "mimetype": "text/x-python",
   "name": "python",
   "nbconvert_exporter": "python",
   "pygments_lexer": "ipython3",
   "version": "3.10.8"
  }
 },
 "nbformat": 4,
 "nbformat_minor": 5
}
